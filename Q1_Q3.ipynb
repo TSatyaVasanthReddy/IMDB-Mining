{
 "cells": [
  {
   "cell_type": "code",
   "execution_count": 33,
   "metadata": {},
   "outputs": [],
   "source": [
    "import pandas as pd\n",
    "import re\n",
    "import numpy as np\n",
    "import pickle\n",
    "import scipy\n",
    "import os"
   ]
  },
  {
   "cell_type": "markdown",
   "metadata": {},
   "source": [
    "# Preprocessing"
   ]
  },
  {
   "cell_type": "code",
   "execution_count": null,
   "metadata": {},
   "outputs": [],
   "source": [
    "def remove_extra(s):\n",
    "    return(re.sub(r'\\([^\\d]*\\)|\\{.*\\}|\\'|\\\"', \"\", s).strip())"
   ]
  },
  {
   "cell_type": "code",
   "execution_count": null,
   "metadata": {},
   "outputs": [],
   "source": [
    "def get_non_duplicated(artist_dataframe):\n",
    "    artist_counts = artist_dataframe[['movies','artist']].groupby('artist',as_index=False).agg(['count'])\n",
    "    artist_counts.columns = [''.join(col).strip() for col in artist_counts.columns.values]\n",
    "    artist_counts2 = artist_counts.reset_index()\n",
    "    print('Only',artist_counts2['artist'].count(),' unique names')\n",
    "    \n",
    "    artist_counts2  = artist_counts2.loc[artist_counts2['moviescount'] >1]\n",
    "    duplicate_artists = list(artist_counts2['artist'].values)\n",
    "    #print(len(duplicate_artists),' repeated names')\n",
    "    duplicated_artist_df  = artist_dataframe.loc[artist_dataframe['artist'].isin(duplicate_artists)]\n",
    "    non_duplicated_artist_df  = artist_dataframe.loc[~artist_dataframe['artist'].isin(duplicate_artists)]\n",
    "    print(non_duplicated_artist_df['movies'].count(),' non repeated names')\n",
    "    fixed_duplicated_artist_df = duplicated_artist_df.groupby('artist').agg({'movies':'sum'})\n",
    "    fixed_duplicated_artist_df['movies'] = fixed_duplicated_artist_df['movies'].apply(lambda x: list(set(x)))\n",
    "    print(fixed_duplicated_artist_df['movies'].count(),' responsible for duplicates')\n",
    "    non_duplicated_artist_df.append(fixed_duplicated_artist_df)\n",
    "    return non_duplicated_artist_df\n",
    "\n",
    "    "
   ]
  },
  {
   "cell_type": "code",
   "execution_count": null,
   "metadata": {},
   "outputs": [],
   "source": [
    "def get_artist_data(file_name):\n",
    "    artist_list = []\n",
    "    artist_movies_list = []\n",
    "    i = 0\n",
    "    with open(file_name,'rb') as f:\n",
    "        lines = f.readlines()\n",
    "        for line in lines:\n",
    "            i+=1\n",
    "            if(i%100000==0):\n",
    "                print(i)\n",
    "            line= line.decode('utf-8','ignore').encode(\"utf-8\")\n",
    "            line_split = line.decode().split('\\t\\t')\n",
    "            artist = line_split[0]\n",
    "            movies = []\n",
    "            if(len(line_split)>1):\n",
    "                movies = set(map(remove_extra, line_split[1:]))\n",
    "                movies =[m for m in movies if(len(m))>0]\n",
    "            artist_list.append(artist)\n",
    "            artist_movies_list.append(list(movies))     \n",
    "    print(len(artist_list),\" Lines found\")\n",
    "    artist_dataframe = pd.DataFrame(list(zip(artist_list, artist_movies_list)),columns=['artist','movies'])\n",
    "    return get_non_duplicated(artist_dataframe)\n",
    "    \n",
    "\n"
   ]
  },
  {
   "cell_type": "code",
   "execution_count": null,
   "metadata": {},
   "outputs": [],
   "source": [
    "non_duplicated_actor_df = get_artist_data('data/actor_movies.txt')\n",
    "non_duplicated_actress_df = get_artist_data('data/actress_movies.txt')"
   ]
  },
  {
   "cell_type": "code",
   "execution_count": null,
   "metadata": {},
   "outputs": [],
   "source": [
    "non_duplicated_artist_df = get_non_duplicated(non_duplicated_actor_df.append(non_duplicated_actress_df))\n",
    "non_duplicated_artist_df['count'] = non_duplicated_artist_df['movies'].apply(lambda x: len(x))\n",
    "non_duplicated_artist_df.head()"
   ]
  },
  {
   "cell_type": "code",
   "execution_count": null,
   "metadata": {},
   "outputs": [],
   "source": [
    "non_duplicated_artist_df.count()"
   ]
  },
  {
   "cell_type": "code",
   "execution_count": null,
   "metadata": {},
   "outputs": [],
   "source": [
    "final_df = non_duplicated_artist_df.loc[non_duplicated_artist_df['count'] >=10]\n",
    "final_df.count()"
   ]
  },
  {
   "cell_type": "code",
   "execution_count": null,
   "metadata": {},
   "outputs": [],
   "source": [
    "import pickle\n",
    "import pandas as pd\n",
    "import re\n",
    "import numpy as np\n",
    "import pickle\n",
    "import scipy\n",
    "#final_df = pickle.load(open('final.pickle','rb'))\n",
    "artists = final_df['artist'].values\n",
    "num_artists = len(artists)#len(artists)"
   ]
  },
  {
   "cell_type": "code",
   "execution_count": null,
   "metadata": {},
   "outputs": [],
   "source": [
    "movies_list = final_df['movies'].values\n",
    "import itertools\n",
    "merged = list(itertools.chain(*movies_list))\n",
    "movies = list(set(merged)) \n",
    "num_movies =len(movies)"
   ]
  },
  {
   "cell_type": "code",
   "execution_count": null,
   "metadata": {},
   "outputs": [],
   "source": [
    "movies_list =[set(movies) for movies in movies_list]"
   ]
  },
  {
   "cell_type": "code",
   "execution_count": null,
   "metadata": {},
   "outputs": [],
   "source": [
    "artist_id_map = {}\n",
    "for i in range(len(artists)):\n",
    "    artist_id_map[artists[i]] = i\n",
    "    movie_id_map = {}\n",
    "for i in range(len(movies)):\n",
    "    movie_id_map[movies[i]] = i"
   ]
  },
  {
   "cell_type": "code",
   "execution_count": null,
   "metadata": {},
   "outputs": [],
   "source": [
    "def get_intersections(e1,e2):\n",
    "    return (len(set(e1)&e2),len(e1))\n",
    "vector_get_intersections =np.vectorize(get_intersections)"
   ]
  },
  {
   "cell_type": "code",
   "execution_count": null,
   "metadata": {},
   "outputs": [],
   "source": [
    "final_df.head()"
   ]
  },
  {
   "cell_type": "code",
   "execution_count": null,
   "metadata": {},
   "outputs": [],
   "source": [
    "if os.path.exists('edge_list.txt'):\n",
    "    x = input('Path Exist. Want to create a new?y/n')\n",
    "    if(x=='y'):\n",
    "        os.remove('edge_list.txt')"
   ]
  },
  {
   "cell_type": "code",
   "execution_count": null,
   "metadata": {
    "scrolled": true
   },
   "outputs": [],
   "source": [
    "i = 0\n",
    "for i in range(num_artists-1):\n",
    "    i+=1\n",
    "    if(i%1024==0):\n",
    "        print(i)\n",
    "    x= vector_get_intersections(movies_list[i+1:],movies_list[i])\n",
    "    i_len = len(movies_list[i])\n",
    "    neigh = [(j,x[0][j-i-1],x[1][j-i-1]) for j in range(i+1,num_artists) if x[0][j-i-1]>0 and j!=i]\n",
    "    with open('edge_list.txt','a+')as  ef:\n",
    "        for n in neigh:\n",
    "            ef.write(\"%d\\t%d\\t%f\\n\"%(i,n[0],n[1]*1.0/i_len))\n",
    "            ef.write(\"%d\\t%d\\t%f\\n\"%(n[0],i,n[1]*1.0/n[2]))       "
   ]
  },
  {
   "cell_type": "code",
   "execution_count": 38,
   "metadata": {},
   "outputs": [],
   "source": [
    "ten_artists =['Cruise, Tom','Watson, Emma (II)','Clooney, George','Hanks, Tom','Johnson, Dwayne (I)','Depp, Johnny','Smith, Will (I)','Streep, Meryl','DiCaprio, Leonardo','Pitt, Brad']\n",
    "ten_artists_id = [artist_id_map[x] for x in ten_artists]"
   ]
  },
  {
   "cell_type": "code",
   "execution_count": 37,
   "metadata": {},
   "outputs": [
    {
     "data": {
      "text/html": [
       "<div>\n",
       "<style scoped>\n",
       "    .dataframe tbody tr th:only-of-type {\n",
       "        vertical-align: middle;\n",
       "    }\n",
       "\n",
       "    .dataframe tbody tr th {\n",
       "        vertical-align: top;\n",
       "    }\n",
       "\n",
       "    .dataframe thead th {\n",
       "        text-align: right;\n",
       "    }\n",
       "</style>\n",
       "<table border=\"1\" class=\"dataframe\">\n",
       "  <thead>\n",
       "    <tr style=\"text-align: right;\">\n",
       "      <th></th>\n",
       "      <th>v1</th>\n",
       "      <th>v2</th>\n",
       "      <th>weight</th>\n",
       "    </tr>\n",
       "  </thead>\n",
       "  <tbody>\n",
       "    <tr>\n",
       "      <th>0</th>\n",
       "      <td>1</td>\n",
       "      <td>9760</td>\n",
       "      <td>0.600000</td>\n",
       "    </tr>\n",
       "    <tr>\n",
       "      <th>1</th>\n",
       "      <td>9760</td>\n",
       "      <td>1</td>\n",
       "      <td>0.571429</td>\n",
       "    </tr>\n",
       "    <tr>\n",
       "      <th>2</th>\n",
       "      <td>1</td>\n",
       "      <td>17056</td>\n",
       "      <td>0.050000</td>\n",
       "    </tr>\n",
       "    <tr>\n",
       "      <th>3</th>\n",
       "      <td>17056</td>\n",
       "      <td>1</td>\n",
       "      <td>0.010000</td>\n",
       "    </tr>\n",
       "    <tr>\n",
       "      <th>4</th>\n",
       "      <td>1</td>\n",
       "      <td>21507</td>\n",
       "      <td>0.050000</td>\n",
       "    </tr>\n",
       "  </tbody>\n",
       "</table>\n",
       "</div>"
      ],
      "text/plain": [
       "      v1     v2    weight\n",
       "0      1   9760  0.600000\n",
       "1   9760      1  0.571429\n",
       "2      1  17056  0.050000\n",
       "3  17056      1  0.010000\n",
       "4      1  21507  0.050000"
      ]
     },
     "execution_count": 37,
     "metadata": {},
     "output_type": "execute_result"
    }
   ],
   "source": [
    "df = pd.read_table('edge_list.txt',header=None)\n",
    "df.columns = ['v1','v2','weight']\n",
    "df.head()"
   ]
  },
  {
   "cell_type": "code",
   "execution_count": 86,
   "metadata": {},
   "outputs": [
    {
     "name": "stdout",
     "output_type": "stream",
     "text": [
      "1651\n",
      "0.174603\n",
      "Cruise, Tom\n",
      "['Kidman, Nicole']\n",
      "453\n",
      "0.52\n",
      "Watson, Emma (II)\n",
      "['Radcliffe, Daniel']\n",
      "1572\n",
      "0.119403\n",
      "Clooney, George\n",
      "['Damon, Matt']\n",
      "2062\n",
      "0.101266\n",
      "Hanks, Tom\n",
      "['Allen, Tim (I)']\n",
      "1354\n",
      "0.20512800000000003\n",
      "Johnson, Dwayne (I)\n",
      "['Austin, Steve (IV)', 'Calaway, Mark', 'Levesque, Paul (I)']\n",
      "2143\n",
      "0.081633\n",
      "Depp, Johnny\n",
      "['Bonham Carter, Helena']\n",
      "1317\n",
      "0.122449\n",
      "Smith, Will (I)\n",
      "['Foster, Darrell']\n",
      "1594\n",
      "0.061855999999999994\n",
      "Streep, Meryl\n",
      "['De Niro, Robert', 'Kline, Kevin (I)']\n",
      "1300\n",
      "0.10204099999999999\n",
      "DiCaprio, Leonardo\n",
      "['Scorsese, Martin']\n",
      "1738\n",
      "0.098592\n",
      "Pitt, Brad\n",
      "['Clooney, George']\n"
     ]
    }
   ],
   "source": [
    "for artist in ten_artists_id:\n",
    "    df_top = df.loc[df.v1.isin([artist])]\n",
    "    print(df_top['v1'].count())\n",
    "    weight = df_top.groupby('v1').agg({'weight':max}).values[0][0]\n",
    "    print(weight)\n",
    "    x = df_top['v2'].loc[(df_top.v1.isin([artist])) & (df_top.weight.isin([weight]))].values\n",
    "    print(artists[artist])\n",
    "    print([artists[a] for a in x])"
   ]
  },
  {
   "cell_type": "code",
   "execution_count": null,
   "metadata": {},
   "outputs": [],
   "source": []
  }
 ],
 "metadata": {
  "kernelspec": {
   "display_name": "Python 3",
   "language": "python",
   "name": "python3"
  },
  "language_info": {
   "codemirror_mode": {
    "name": "ipython",
    "version": 3
   },
   "file_extension": ".py",
   "mimetype": "text/x-python",
   "name": "python",
   "nbconvert_exporter": "python",
   "pygments_lexer": "ipython3",
   "version": "3.6.4"
  }
 },
 "nbformat": 4,
 "nbformat_minor": 2
}
