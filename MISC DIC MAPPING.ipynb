{
 "cells": [
  {
   "cell_type": "code",
   "execution_count": 62,
   "metadata": {},
   "outputs": [],
   "source": [
    "import numpy as np\n",
    "import matplotlib.pyplot as plt\n",
    "import operator\n",
    "import csv\n",
    "import math"
   ]
  },
  {
   "cell_type": "code",
   "execution_count": 63,
   "metadata": {},
   "outputs": [],
   "source": [
    "#actors_file = open(\"artists.txt\", 'r', encoding='ISO-8859-1')\n",
    "movies_file = open(\"movies.txt\", 'r', encoding='ISO-8859-1')\n",
    "movies = []\n",
    "for row in movies_file.readlines():\n",
    "    mov = row\n",
    "    movies.append(mov[:-1])\n",
    "movies = np.array(movies)"
   ]
  },
  {
   "cell_type": "code",
   "execution_count": 64,
   "metadata": {},
   "outputs": [
    {
     "data": {
      "text/plain": [
       "'Blown Glass (2005)'"
      ]
     },
     "execution_count": 64,
     "metadata": {},
     "output_type": "execute_result"
    }
   ],
   "source": [
    "movies[0]"
   ]
  },
  {
   "cell_type": "code",
   "execution_count": 65,
   "metadata": {},
   "outputs": [],
   "source": [
    "movies_genre = open(\"movie_genre.txt\",'r',encoding = 'ISO-8859-1')\n",
    "movie_genre_hash = {}\n",
    "movies_genres = []\n",
    "for row in movies_genre.readlines():\n",
    "    mov = row\n",
    "    split = np.array(row.split(\"\\t\\t\"))\n",
    "    movie_genre_hash[split[0]] = split[1][:-1]\n",
    "movies_genres = np.array(movies_genres)"
   ]
  },
  {
   "cell_type": "code",
   "execution_count": 66,
   "metadata": {},
   "outputs": [
    {
     "data": {
      "text/plain": [
       "'Adult'"
      ]
     },
     "execution_count": 66,
     "metadata": {},
     "output_type": "execute_result"
    }
   ],
   "source": [
    "movie_genre_hash['Blown Out (1997)']\n"
   ]
  },
  {
   "cell_type": "code",
   "execution_count": null,
   "metadata": {},
   "outputs": [],
   "source": []
  },
  {
   "cell_type": "code",
   "execution_count": 67,
   "metadata": {},
   "outputs": [
    {
     "data": {
      "text/plain": [
       "'Pu ti men (1978)'"
      ]
     },
     "execution_count": 67,
     "metadata": {},
     "output_type": "execute_result"
    }
   ],
   "source": [
    "movies[1]"
   ]
  },
  {
   "cell_type": "code",
   "execution_count": 68,
   "metadata": {},
   "outputs": [],
   "source": [
    "movie_id_hash = {}\n",
    "for i in range(len(movies)):\n",
    "    movie_id_hash[movies[i]] = i+1 "
   ]
  },
  {
   "cell_type": "code",
   "execution_count": 69,
   "metadata": {},
   "outputs": [
    {
     "data": {
      "text/plain": [
       "432251"
      ]
     },
     "execution_count": 69,
     "metadata": {},
     "output_type": "execute_result"
    }
   ],
   "source": [
    "movie_id_hash['Blown Out (1997)']"
   ]
  },
  {
   "cell_type": "code",
   "execution_count": 70,
   "metadata": {},
   "outputs": [],
   "source": [
    "id_genre_hash={}\n",
    "for key in movie_id_hash.keys():\n",
    "    if key in movie_genre_hash.keys():\n",
    "        id_genre_hash[movie_id_hash[key]] = movie_genre_hash[key]\n",
    "    else:\n",
    "        id_genre_hash[movie_id_hash[key]] = 'Unknown'"
   ]
  },
  {
   "cell_type": "code",
   "execution_count": 71,
   "metadata": {},
   "outputs": [
    {
     "ename": "KeyError",
     "evalue": "0",
     "output_type": "error",
     "traceback": [
      "\u001b[1;31m---------------------------------------------------------------------------\u001b[0m",
      "\u001b[1;31mKeyError\u001b[0m                                  Traceback (most recent call last)",
      "\u001b[1;32m<ipython-input-71-02fe4b6e991e>\u001b[0m in \u001b[0;36m<module>\u001b[1;34m()\u001b[0m\n\u001b[1;32m----> 1\u001b[1;33m \u001b[0mid_genre_hash\u001b[0m\u001b[1;33m[\u001b[0m\u001b[1;36m0\u001b[0m\u001b[1;33m]\u001b[0m\u001b[1;33m\u001b[0m\u001b[0m\n\u001b[0m",
      "\u001b[1;31mKeyError\u001b[0m: 0"
     ]
    }
   ],
   "source": [
    "id_genre_hash[0]"
   ]
  },
  {
   "cell_type": "code",
   "execution_count": 74,
   "metadata": {},
   "outputs": [],
   "source": [
    "with open('id_genre_map.csv','w') as f:\n",
    "    w = csv.writer(f)\n",
    "    w.writerows(id_genre_hash.items())"
   ]
  },
  {
   "cell_type": "code",
   "execution_count": 75,
   "metadata": {},
   "outputs": [
    {
     "data": {
      "text/plain": [
       "291605"
      ]
     },
     "execution_count": 75,
     "metadata": {},
     "output_type": "execute_result"
    }
   ],
   "source": [
    "movie_id_hash['Finally... Justice (2005)']"
   ]
  },
  {
   "cell_type": "code",
   "execution_count": 78,
   "metadata": {},
   "outputs": [],
   "source": [
    "movies_actor = open(\"actor_movies.txt\",'r',encoding = 'ISO-8859-1')\n",
    "movie_actor_hash = {}\n",
    "for row in movies_actor.readlines():\n",
    "    mov = row\n",
    "    split = np.array(row.split(\"\\t\\t\"))\n",
    "    movie_actor_hash[split[0]] = len(split) - 1\n"
   ]
  },
  {
   "cell_type": "code",
   "execution_count": 79,
   "metadata": {},
   "outputs": [],
   "source": [
    "movies_actor = open(\"actress_movies.txt\",'r',encoding = 'ISO-8859-1')\n",
    "for row in movies_actor.readlines():\n",
    "    mov = row\n",
    "    split = np.array(row.split(\"\\t\\t\"))\n",
    "    movie_actor_hash[split[0]] = len(split) - 1\n"
   ]
  },
  {
   "cell_type": "code",
   "execution_count": 83,
   "metadata": {},
   "outputs": [
    {
     "data": {
      "text/plain": [
       "828"
      ]
     },
     "execution_count": 83,
     "metadata": {},
     "output_type": "execute_result"
    }
   ],
   "source": [
    "movie_actor_hash['Flowers, Bess']"
   ]
  },
  {
   "cell_type": "code",
   "execution_count": 85,
   "metadata": {},
   "outputs": [],
   "source": [
    "with open('actor_movie_map.csv','w') as f:\n",
    "    w = csv.writer(f)\n",
    "    w.writerows(movie_actor_hash.items())"
   ]
  },
  {
   "cell_type": "code",
   "execution_count": null,
   "metadata": {},
   "outputs": [],
   "source": []
  }
 ],
 "metadata": {
  "kernelspec": {
   "display_name": "Python 3",
   "language": "python",
   "name": "python3"
  },
  "language_info": {
   "codemirror_mode": {
    "name": "ipython",
    "version": 3
   },
   "file_extension": ".py",
   "mimetype": "text/x-python",
   "name": "python",
   "nbconvert_exporter": "python",
   "pygments_lexer": "ipython3",
   "version": "3.6.4"
  }
 },
 "nbformat": 4,
 "nbformat_minor": 2
}
