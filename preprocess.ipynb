{
 "cells": [
  {
   "cell_type": "code",
   "execution_count": 2,
   "metadata": {},
   "outputs": [],
   "source": [
    "import pandas as pd\n",
    "import re"
   ]
  },
  {
   "cell_type": "code",
   "execution_count": 3,
   "metadata": {},
   "outputs": [],
   "source": [
    "def remove_extra(s):\n",
    "    return(re.sub(r'\\(.*\\)|\\{.*\\}|\\'|\\\"', \"\", s).strip())"
   ]
  },
  {
   "cell_type": "code",
   "execution_count": 4,
   "metadata": {},
   "outputs": [],
   "source": [
    "#701 actors"
   ]
  },
  {
   "cell_type": "code",
   "execution_count": 135,
   "metadata": {},
   "outputs": [],
   "source": [
    "def get_non_duplicated(artist_dataframe):\n",
    "    artist_counts = artist_dataframe[['movies','artist']].groupby('artist',as_index=False).agg(['count'])\n",
    "    artist_counts.columns = [''.join(col).strip() for col in artist_counts.columns.values]\n",
    "    artist_counts2 = artist_counts.reset_index()\n",
    "    print('Only',artist_counts2['artist'].count(),' unique names')\n",
    "    \n",
    "    artist_counts2  = artist_counts2.loc[artist_counts2['moviescount'] >1]\n",
    "    duplicate_artists = list(artist_counts2['artist'].values)\n",
    "    #print(len(duplicate_artists),' repeated names')\n",
    "    duplicated_artist_df  = artist_dataframe.loc[artist_dataframe['artist'].isin(duplicate_artists)]\n",
    "    non_duplicated_artist_df  = artist_dataframe.loc[~artist_dataframe['artist'].isin(duplicate_artists)]\n",
    "    print(non_duplicated_artist_df['movies'].count(),' non repeated names')\n",
    "    fixed_duplicated_artist_df = duplicated_artist_df.groupby('artist').agg({'movies':'sum'})\n",
    "    fixed_duplicated_artist_df['movies'] = fixed_duplicated_artist_df['movies'].apply(lambda x: list(set(x)))\n",
    "    print(fixed_duplicated_artist_df['movies'].count(),' responsible for duplicates')\n",
    "    non_duplicated_artist_df.append(fixed_duplicated_artist_df)\n",
    "    return non_duplicated_artist_df\n",
    "\n",
    "    "
   ]
  },
  {
   "cell_type": "code",
   "execution_count": 136,
   "metadata": {},
   "outputs": [],
   "source": [
    "def get_artist_data(file_name):\n",
    "    artist_list = []\n",
    "    artist_movies_list = []\n",
    "    i = 0\n",
    "    with open(file_name,'rb') as f:\n",
    "        lines = f.readlines()\n",
    "        for line in lines:\n",
    "            i+=1\n",
    "            if(i%100000==0):\n",
    "                print(i)\n",
    "            line= line.decode('utf-8','ignore').encode(\"utf-8\")\n",
    "            line_split = line.decode().split('\\t\\t')\n",
    "            artist = line_split[0]\n",
    "            movies = []\n",
    "            if(len(line_split)>1):\n",
    "                movies = set(map(remove_extra, line_split[1:]))\n",
    "                movies =[m for m in movies if(len(m))>0]\n",
    "            artist_list.append(artist)\n",
    "            artist_movies_list.append(list(movies))     \n",
    "    print(len(artist_list),\" Lines found\")\n",
    "    artist_dataframe = pd.DataFrame(list(zip(artist_list, artist_movies_list)),columns=['artist','movies'])\n",
    "    return get_non_duplicated(artist_dataframe)\n",
    "    \n",
    "\n"
   ]
  },
  {
   "cell_type": "code",
   "execution_count": 137,
   "metadata": {},
   "outputs": [
    {
     "name": "stdout",
     "output_type": "stream",
     "text": [
      "100000\n",
      "200000\n",
      "300000\n",
      "400000\n",
      "500000\n",
      "600000\n",
      "700000\n",
      "800000\n",
      "900000\n",
      "1000000\n",
      "1100000\n",
      "1200000\n",
      "1300000\n",
      "1400000\n",
      "1500000\n",
      "1600000\n",
      "1700000\n",
      "1800000\n",
      "1900000\n",
      "2000000\n",
      "2100000\n",
      "2167653  Lines found\n",
      "Only 2166817  unique names\n",
      "2166116  non repeated names\n",
      "701  responsible for duplicates\n"
     ]
    }
   ],
   "source": [
    "non_duplicated_actor_df = get_artist_data('data/actor_movies.txt')"
   ]
  },
  {
   "cell_type": "code",
   "execution_count": 138,
   "metadata": {},
   "outputs": [
    {
     "name": "stdout",
     "output_type": "stream",
     "text": [
      "100000\n",
      "200000\n",
      "300000\n",
      "400000\n",
      "500000\n",
      "600000\n",
      "700000\n",
      "800000\n",
      "900000\n",
      "1000000\n",
      "1100000\n",
      "1182813  Lines found\n",
      "Only 1182404  unique names\n",
      "1182084  non repeated names\n",
      "320  responsible for duplicates\n"
     ]
    }
   ],
   "source": [
    "non_duplicated_actress_df = get_artist_data('data/actress_movies.txt')"
   ]
  },
  {
   "cell_type": "code",
   "execution_count": 169,
   "metadata": {},
   "outputs": [
    {
     "name": "stdout",
     "output_type": "stream",
     "text": [
      "Only 3348112  unique names\n",
      "3348024  non repeated names\n",
      "88  responsible for duplicates\n"
     ]
    },
    {
     "data": {
      "text/html": [
       "<div>\n",
       "<style scoped>\n",
       "    .dataframe tbody tr th:only-of-type {\n",
       "        vertical-align: middle;\n",
       "    }\n",
       "\n",
       "    .dataframe tbody tr th {\n",
       "        vertical-align: top;\n",
       "    }\n",
       "\n",
       "    .dataframe thead th {\n",
       "        text-align: right;\n",
       "    }\n",
       "</style>\n",
       "<table border=\"1\" class=\"dataframe\">\n",
       "  <thead>\n",
       "    <tr style=\"text-align: right;\">\n",
       "      <th></th>\n",
       "      <th>artist</th>\n",
       "      <th>movies</th>\n",
       "      <th>count</th>\n",
       "    </tr>\n",
       "  </thead>\n",
       "  <tbody>\n",
       "    <tr>\n",
       "      <th>0</th>\n",
       "      <td>$, Claw</td>\n",
       "      <td>[]</td>\n",
       "      <td>0</td>\n",
       "    </tr>\n",
       "    <tr>\n",
       "      <th>1</th>\n",
       "      <td>$, Homo</td>\n",
       "      <td>[Suuri illusioni, Nykytaiteen museo]</td>\n",
       "      <td>2</td>\n",
       "    </tr>\n",
       "    <tr>\n",
       "      <th>2</th>\n",
       "      <td>$, Steve</td>\n",
       "      <td>[]</td>\n",
       "      <td>0</td>\n",
       "    </tr>\n",
       "    <tr>\n",
       "      <th>3</th>\n",
       "      <td>$hort, Too</td>\n",
       "      <td>[Townbiz, Menace II Society, Rhyme &amp; Reason, S...</td>\n",
       "      <td>12</td>\n",
       "    </tr>\n",
       "    <tr>\n",
       "      <th>4</th>\n",
       "      <td>$lim, Bee Moe</td>\n",
       "      <td>[For Thy Love 2, Fatherhood 101]</td>\n",
       "      <td>2</td>\n",
       "    </tr>\n",
       "  </tbody>\n",
       "</table>\n",
       "</div>"
      ],
      "text/plain": [
       "          artist                                             movies  count\n",
       "0        $, Claw                                                 []      0\n",
       "1        $, Homo               [Suuri illusioni, Nykytaiteen museo]      2\n",
       "2       $, Steve                                                 []      0\n",
       "3     $hort, Too  [Townbiz, Menace II Society, Rhyme & Reason, S...     12\n",
       "4  $lim, Bee Moe                   [For Thy Love 2, Fatherhood 101]      2"
      ]
     },
     "execution_count": 169,
     "metadata": {},
     "output_type": "execute_result"
    }
   ],
   "source": [
    "non_duplicated_artist_df = get_non_duplicated(non_duplicated_actor_df.append(non_duplicated_actress_df))\n",
    "non_duplicated_artist_df['count'] = non_duplicated_artist_df['movies'].apply(lambda x: len(x))\n",
    "non_duplicated_artist_df.head()"
   ]
  },
  {
   "cell_type": "code",
   "execution_count": 174,
   "metadata": {},
   "outputs": [
    {
     "data": {
      "text/plain": [
       "artist    3348024\n",
       "movies    3348024\n",
       "count     3348024\n",
       "dtype: int64"
      ]
     },
     "execution_count": 174,
     "metadata": {},
     "output_type": "execute_result"
    }
   ],
   "source": [
    "non_duplicated_artist_df.count()"
   ]
  },
  {
   "cell_type": "code",
   "execution_count": 176,
   "metadata": {},
   "outputs": [
    {
     "data": {
      "text/plain": [
       "artist    100783\n",
       "movies    100783\n",
       "count     100783\n",
       "dtype: int64"
      ]
     },
     "execution_count": 176,
     "metadata": {},
     "output_type": "execute_result"
    }
   ],
   "source": [
    "final_df.count()"
   ]
  },
  {
   "cell_type": "code",
   "execution_count": 170,
   "metadata": {},
   "outputs": [],
   "source": [
    "final_df = non_duplicated_artist_df.loc[non_duplicated_artist_df['count'] >10]"
   ]
  },
  {
   "cell_type": "code",
   "execution_count": 177,
   "metadata": {},
   "outputs": [
    {
     "data": {
      "text/plain": [
       "100783"
      ]
     },
     "execution_count": 177,
     "metadata": {},
     "output_type": "execute_result"
    }
   ],
   "source": [
    "artists = final_df['artist'].values\n",
    "len(artists)"
   ]
  },
  {
   "cell_type": "code",
   "execution_count": null,
   "metadata": {},
   "outputs": [
    {
     "name": "stdout",
     "output_type": "stream",
     "text": [
      "Evaluating node  0\n"
     ]
    }
   ],
   "source": [
    "num_artists = len(artists)#len(artists)\n",
    "edge_tuple=[]\n",
    "for i in range(num_artists):\n",
    "    print(\"Evaluating node \",i)\n",
    "    i_movies = list(final_df['movies'].loc[final_df['artist'] == artists[i]])[0]\n",
    "    den = len(i_movies)\n",
    "    for j in range(num_artists):\n",
    "        if i ==j:\n",
    "            continue\n",
    "        j_movies = final_df['movies'].loc[final_df['artist'] == artists[j]]\n",
    "        j_movies = list(j_movies)[0]\n",
    "        #print(j_movies)\n",
    "        weight = len(set(i_movies)&set(j_movies))*1.0/den\n",
    "        if(weight>0):\n",
    "            edge_tuple.append((i,j,weight))\n",
    "        "
   ]
  },
  {
   "cell_type": "code",
   "execution_count": 182,
   "metadata": {},
   "outputs": [
    {
     "data": {
      "text/plain": [
       "[(2, 98, 0.02564102564102564), (9, 22, 0.045454545454545456)]"
      ]
     },
     "execution_count": 182,
     "metadata": {},
     "output_type": "execute_result"
    }
   ],
   "source": [
    "edge_tuple"
   ]
  },
  {
   "cell_type": "code",
   "execution_count": null,
   "metadata": {},
   "outputs": [],
   "source": []
  }
 ],
 "metadata": {
  "kernelspec": {
   "display_name": "Python 3",
   "language": "python",
   "name": "python3"
  },
  "language_info": {
   "codemirror_mode": {
    "name": "ipython",
    "version": 3
   },
   "file_extension": ".py",
   "mimetype": "text/x-python",
   "name": "python",
   "nbconvert_exporter": "python",
   "pygments_lexer": "ipython3",
   "version": "3.6.4"
  }
 },
 "nbformat": 4,
 "nbformat_minor": 2
}
