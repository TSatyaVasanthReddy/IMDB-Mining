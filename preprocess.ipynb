{
 "cells": [
  {
   "cell_type": "code",
   "execution_count": 143,
   "metadata": {},
   "outputs": [],
   "source": [
    "import pandas as pd\n",
    "import re\n",
    "import numpy as np\n",
    "import pickle\n",
    "import scipy"
   ]
  },
  {
   "cell_type": "code",
   "execution_count": 236,
   "metadata": {},
   "outputs": [],
   "source": [
    "def remove_extra(s):\n",
    "    return(re.sub(r'\\([^\\d]*\\)|\\{.*\\}|\\'|\\\"', \"\", s).strip())"
   ]
  },
  {
   "cell_type": "code",
   "execution_count": 237,
   "metadata": {},
   "outputs": [],
   "source": [
    "#701 actors"
   ]
  },
  {
   "cell_type": "code",
   "execution_count": 238,
   "metadata": {},
   "outputs": [],
   "source": [
    "def get_non_duplicated(artist_dataframe):\n",
    "    artist_counts = artist_dataframe[['movies','artist']].groupby('artist',as_index=False).agg(['count'])\n",
    "    artist_counts.columns = [''.join(col).strip() for col in artist_counts.columns.values]\n",
    "    artist_counts2 = artist_counts.reset_index()\n",
    "    print('Only',artist_counts2['artist'].count(),' unique names')\n",
    "    \n",
    "    artist_counts2  = artist_counts2.loc[artist_counts2['moviescount'] >1]\n",
    "    duplicate_artists = list(artist_counts2['artist'].values)\n",
    "    #print(len(duplicate_artists),' repeated names')\n",
    "    duplicated_artist_df  = artist_dataframe.loc[artist_dataframe['artist'].isin(duplicate_artists)]\n",
    "    non_duplicated_artist_df  = artist_dataframe.loc[~artist_dataframe['artist'].isin(duplicate_artists)]\n",
    "    print(non_duplicated_artist_df['movies'].count(),' non repeated names')\n",
    "    fixed_duplicated_artist_df = duplicated_artist_df.groupby('artist').agg({'movies':'sum'})\n",
    "    fixed_duplicated_artist_df['movies'] = fixed_duplicated_artist_df['movies'].apply(lambda x: list(set(x)))\n",
    "    print(fixed_duplicated_artist_df['movies'].count(),' responsible for duplicates')\n",
    "    non_duplicated_artist_df.append(fixed_duplicated_artist_df)\n",
    "    return non_duplicated_artist_df\n",
    "\n",
    "    "
   ]
  },
  {
   "cell_type": "code",
   "execution_count": 239,
   "metadata": {},
   "outputs": [],
   "source": [
    "def get_artist_data(file_name):\n",
    "    artist_list = []\n",
    "    artist_movies_list = []\n",
    "    i = 0\n",
    "    with open(file_name,'rb') as f:\n",
    "        lines = f.readlines()\n",
    "        for line in lines:\n",
    "            i+=1\n",
    "            if(i%100000==0):\n",
    "                print(i)\n",
    "            line= line.decode('utf-8','ignore').encode(\"utf-8\")\n",
    "            line_split = line.decode().split('\\t\\t')\n",
    "            artist = line_split[0]\n",
    "            movies = []\n",
    "            if(len(line_split)>1):\n",
    "                movies = set(map(remove_extra, line_split[1:]))\n",
    "                movies =[m for m in movies if(len(m))>0]\n",
    "            artist_list.append(artist)\n",
    "            artist_movies_list.append(list(movies))     \n",
    "    print(len(artist_list),\" Lines found\")\n",
    "    artist_dataframe = pd.DataFrame(list(zip(artist_list, artist_movies_list)),columns=['artist','movies'])\n",
    "    return get_non_duplicated(artist_dataframe)\n",
    "    \n",
    "\n"
   ]
  },
  {
   "cell_type": "code",
   "execution_count": 240,
   "metadata": {},
   "outputs": [
    {
     "name": "stdout",
     "output_type": "stream",
     "text": [
      "100000\n",
      "200000\n",
      "300000\n",
      "400000\n",
      "500000\n",
      "600000\n",
      "700000\n",
      "800000\n",
      "900000\n",
      "1000000\n",
      "1100000\n",
      "1200000\n",
      "1300000\n",
      "1400000\n",
      "1500000\n",
      "1600000\n",
      "1700000\n",
      "1800000\n",
      "1900000\n",
      "2000000\n",
      "2100000\n",
      "2167653  Lines found\n",
      "Only 2166817  unique names\n",
      "2166116  non repeated names\n",
      "701  responsible for duplicates\n"
     ]
    }
   ],
   "source": [
    "non_duplicated_actor_df = get_artist_data('data/actor_movies.txt')"
   ]
  },
  {
   "cell_type": "code",
   "execution_count": 241,
   "metadata": {},
   "outputs": [
    {
     "name": "stdout",
     "output_type": "stream",
     "text": [
      "100000\n",
      "200000\n",
      "300000\n",
      "400000\n",
      "500000\n",
      "600000\n",
      "700000\n",
      "800000\n",
      "900000\n",
      "1000000\n",
      "1100000\n",
      "1182813  Lines found\n",
      "Only 1182404  unique names\n",
      "1182084  non repeated names\n",
      "320  responsible for duplicates\n"
     ]
    }
   ],
   "source": [
    "non_duplicated_actress_df = get_artist_data('data/actress_movies.txt')"
   ]
  },
  {
   "cell_type": "code",
   "execution_count": 242,
   "metadata": {},
   "outputs": [
    {
     "name": "stdout",
     "output_type": "stream",
     "text": [
      "Only 3348112  unique names\n",
      "3348024  non repeated names\n",
      "88  responsible for duplicates\n"
     ]
    },
    {
     "data": {
      "text/html": [
       "<div>\n",
       "<style scoped>\n",
       "    .dataframe tbody tr th:only-of-type {\n",
       "        vertical-align: middle;\n",
       "    }\n",
       "\n",
       "    .dataframe tbody tr th {\n",
       "        vertical-align: top;\n",
       "    }\n",
       "\n",
       "    .dataframe thead th {\n",
       "        text-align: right;\n",
       "    }\n",
       "</style>\n",
       "<table border=\"1\" class=\"dataframe\">\n",
       "  <thead>\n",
       "    <tr style=\"text-align: right;\">\n",
       "      <th></th>\n",
       "      <th>artist</th>\n",
       "      <th>movies</th>\n",
       "      <th>count</th>\n",
       "    </tr>\n",
       "  </thead>\n",
       "  <tbody>\n",
       "    <tr>\n",
       "      <th>0</th>\n",
       "      <td>$, Claw</td>\n",
       "      <td>[]</td>\n",
       "      <td>0</td>\n",
       "    </tr>\n",
       "    <tr>\n",
       "      <th>1</th>\n",
       "      <td>$, Homo</td>\n",
       "      <td>[Suuri illusioni (1985), Nykytaiteen museo (19...</td>\n",
       "      <td>2</td>\n",
       "    </tr>\n",
       "    <tr>\n",
       "      <th>2</th>\n",
       "      <td>$, Steve</td>\n",
       "      <td>[]</td>\n",
       "      <td>0</td>\n",
       "    </tr>\n",
       "    <tr>\n",
       "      <th>3</th>\n",
       "      <td>$hort, Too</td>\n",
       "      <td>[Beats, Rhymes &amp; Life: The Travels of a Tribe ...</td>\n",
       "      <td>12</td>\n",
       "    </tr>\n",
       "    <tr>\n",
       "      <th>4</th>\n",
       "      <td>$lim, Bee Moe</td>\n",
       "      <td>[For Thy Love 2 (2009), Fatherhood 101 (2013)]</td>\n",
       "      <td>2</td>\n",
       "    </tr>\n",
       "  </tbody>\n",
       "</table>\n",
       "</div>"
      ],
      "text/plain": [
       "          artist                                             movies  count\n",
       "0        $, Claw                                                 []      0\n",
       "1        $, Homo  [Suuri illusioni (1985), Nykytaiteen museo (19...      2\n",
       "2       $, Steve                                                 []      0\n",
       "3     $hort, Too  [Beats, Rhymes & Life: The Travels of a Tribe ...     12\n",
       "4  $lim, Bee Moe     [For Thy Love 2 (2009), Fatherhood 101 (2013)]      2"
      ]
     },
     "execution_count": 242,
     "metadata": {},
     "output_type": "execute_result"
    }
   ],
   "source": [
    "non_duplicated_artist_df = get_non_duplicated(non_duplicated_actor_df.append(non_duplicated_actress_df))\n",
    "non_duplicated_artist_df['count'] = non_duplicated_artist_df['movies'].apply(lambda x: len(x))\n",
    "non_duplicated_artist_df.head()"
   ]
  },
  {
   "cell_type": "code",
   "execution_count": 243,
   "metadata": {},
   "outputs": [
    {
     "data": {
      "text/plain": [
       "artist    3348024\n",
       "movies    3348024\n",
       "count     3348024\n",
       "dtype: int64"
      ]
     },
     "execution_count": 243,
     "metadata": {},
     "output_type": "execute_result"
    }
   ],
   "source": [
    "non_duplicated_artist_df.count()"
   ]
  },
  {
   "cell_type": "code",
   "execution_count": 244,
   "metadata": {},
   "outputs": [],
   "source": [
    "final_df = non_duplicated_artist_df.loc[non_duplicated_artist_df['count'] >=10]"
   ]
  },
  {
   "cell_type": "code",
   "execution_count": 245,
   "metadata": {},
   "outputs": [],
   "source": [
    "pickle.dump(final_df, open('final.pickle','wb'))"
   ]
  },
  {
   "cell_type": "code",
   "execution_count": 246,
   "metadata": {},
   "outputs": [],
   "source": [
    "import pickle\n",
    "import pandas as pd\n",
    "import re\n",
    "import numpy as np\n",
    "import pickle\n",
    "import scipy\n",
    "#final_df = pickle.load(open('final.pickle','rb'))\n",
    "artists = final_df['artist'].values\n",
    "num_artists = len(artists)#len(artists)"
   ]
  },
  {
   "cell_type": "code",
   "execution_count": 247,
   "metadata": {},
   "outputs": [],
   "source": [
    "movies_list = final_df['movies'].values\n",
    "import itertools\n",
    "merged = list(itertools.chain(*movies_list))\n",
    "movies = list(set(merged)) \n",
    "num_movies =len(movies)\n"
   ]
  },
  {
   "cell_type": "code",
   "execution_count": 248,
   "metadata": {},
   "outputs": [],
   "source": [
    "movies_list =[set(movies) for movies in movies_list]"
   ]
  },
  {
   "cell_type": "code",
   "execution_count": 249,
   "metadata": {},
   "outputs": [],
   "source": [
    "artist_id_map = {}\n",
    "\n",
    "for i in range(len(artists)):\n",
    "    artist_id_map[artists[i]] = i\n",
    "    movie_id_map = {}\n",
    "for i in range(len(movies)):\n",
    "    movie_id_map[movies[i]] = i"
   ]
  },
  {
   "cell_type": "code",
   "execution_count": 251,
   "metadata": {},
   "outputs": [
    {
     "data": {
      "text/plain": [
       "artist    112993\n",
       "movies    112993\n",
       "count     112993\n",
       "dtype: int64"
      ]
     },
     "execution_count": 251,
     "metadata": {},
     "output_type": "execute_result"
    }
   ],
   "source": [
    "final_df.count()"
   ]
  },
  {
   "cell_type": "code",
   "execution_count": 252,
   "metadata": {},
   "outputs": [],
   "source": [
    "row_cnt = 0\n",
    "artist_movie_mat = []\n",
    "def fill_matrix(row):\n",
    "    global row_cnt\n",
    "    row_cnt +=1\n",
    "    if(row_cnt%10000==0):\n",
    "        print(row_cnt)\n",
    "    row = dict(row)\n",
    "    movies = row['movies']\n",
    "    artist = row['artist']\n",
    "    movie_ids = [movie_id_map[movie] for movie in movies]\n",
    "    artist_row = np.zeros(num_movies)\n",
    "    artist_row[movie_ids] = 1\n",
    "    artist_movie_mat.append(artist_row)\n",
    "   # artist_movie_mat[artist_id_map[artist],:] = artist_row"
   ]
  },
  {
   "cell_type": "code",
   "execution_count": 253,
   "metadata": {},
   "outputs": [],
   "source": [
    "def get_intersections(e1,e2):\n",
    "    return (len(set(e1)&e2),len(e1))\n",
    "vector_get_intersections =np.vectorize(get_intersections)"
   ]
  },
  {
   "cell_type": "code",
   "execution_count": 254,
   "metadata": {},
   "outputs": [],
   "source": [
    "import os"
   ]
  },
  {
   "cell_type": "code",
   "execution_count": 255,
   "metadata": {},
   "outputs": [
    {
     "data": {
      "text/plain": [
       "22"
      ]
     },
     "execution_count": 255,
     "metadata": {},
     "output_type": "execute_result"
    }
   ],
   "source": [
    "len(final_df.loc[final_df['artist'] == artists[17028]]['movies'].values[0])"
   ]
  },
  {
   "cell_type": "code",
   "execution_count": 256,
   "metadata": {},
   "outputs": [
    {
     "data": {
      "text/plain": [
       "('$hort, Too', 'Campbell, Larkin')"
      ]
     },
     "execution_count": 256,
     "metadata": {},
     "output_type": "execute_result"
    }
   ],
   "source": [
    "artists[0], artists[9756]"
   ]
  },
  {
   "cell_type": "code",
   "execution_count": 257,
   "metadata": {},
   "outputs": [
    {
     "data": {
      "text/html": [
       "<div>\n",
       "<style scoped>\n",
       "    .dataframe tbody tr th:only-of-type {\n",
       "        vertical-align: middle;\n",
       "    }\n",
       "\n",
       "    .dataframe tbody tr th {\n",
       "        vertical-align: top;\n",
       "    }\n",
       "\n",
       "    .dataframe thead th {\n",
       "        text-align: right;\n",
       "    }\n",
       "</style>\n",
       "<table border=\"1\" class=\"dataframe\">\n",
       "  <thead>\n",
       "    <tr style=\"text-align: right;\">\n",
       "      <th></th>\n",
       "      <th>artist</th>\n",
       "      <th>movies</th>\n",
       "      <th>count</th>\n",
       "    </tr>\n",
       "  </thead>\n",
       "  <tbody>\n",
       "    <tr>\n",
       "      <th>3</th>\n",
       "      <td>$hort, Too</td>\n",
       "      <td>[Beats, Rhymes &amp; Life: The Travels of a Tribe ...</td>\n",
       "      <td>12</td>\n",
       "    </tr>\n",
       "    <tr>\n",
       "      <th>323</th>\n",
       "      <td>2 Live Crew</td>\n",
       "      <td>[2 Live Crew: Pop the Pussy (1991), 2 Live Cre...</td>\n",
       "      <td>20</td>\n",
       "    </tr>\n",
       "    <tr>\n",
       "      <th>482</th>\n",
       "      <td>50 Cent</td>\n",
       "      <td>[50 Cent: Bulletproof (2005), Call of Duty: Mo...</td>\n",
       "      <td>39</td>\n",
       "    </tr>\n",
       "    <tr>\n",
       "      <th>660</th>\n",
       "      <td>A., Randy</td>\n",
       "      <td>[The Sketches of Matty Mad Man (2013), Sex (20...</td>\n",
       "      <td>19</td>\n",
       "    </tr>\n",
       "    <tr>\n",
       "      <th>669</th>\n",
       "      <td>A., Sergey</td>\n",
       "      <td>[Night of the Dead Man (2014), Otel mertvetsov...</td>\n",
       "      <td>34</td>\n",
       "    </tr>\n",
       "  </tbody>\n",
       "</table>\n",
       "</div>"
      ],
      "text/plain": [
       "          artist                                             movies  count\n",
       "3     $hort, Too  [Beats, Rhymes & Life: The Travels of a Tribe ...     12\n",
       "323  2 Live Crew  [2 Live Crew: Pop the Pussy (1991), 2 Live Cre...     20\n",
       "482      50 Cent  [50 Cent: Bulletproof (2005), Call of Duty: Mo...     39\n",
       "660    A., Randy  [The Sketches of Matty Mad Man (2013), Sex (20...     19\n",
       "669   A., Sergey  [Night of the Dead Man (2014), Otel mertvetsov...     34"
      ]
     },
     "execution_count": 257,
     "metadata": {},
     "output_type": "execute_result"
    }
   ],
   "source": [
    "final_df.head()"
   ]
  },
  {
   "cell_type": "code",
   "execution_count": 258,
   "metadata": {},
   "outputs": [
    {
     "name": "stdout",
     "output_type": "stream",
     "text": [
      "Path Exist. Want to create a new?y/ny\n"
     ]
    }
   ],
   "source": [
    "if os.path.exists('edge_list.txt'):\n",
    "    x = input('Path Exist. Want to create a new?y/n')\n",
    "    if(x=='y'):\n",
    "        os.remove('edge_list.txt')"
   ]
  },
  {
   "cell_type": "code",
   "execution_count": null,
   "metadata": {
    "scrolled": true
   },
   "outputs": [
    {
     "name": "stdout",
     "output_type": "stream",
     "text": [
      "1024\n",
      "2048\n",
      "3072\n",
      "4096\n",
      "5120\n",
      "6144\n",
      "7168\n",
      "8192\n",
      "9216\n",
      "10240\n",
      "11264\n",
      "12288\n",
      "13312\n",
      "14336\n",
      "15360\n",
      "16384\n",
      "17408\n",
      "18432\n",
      "19456\n",
      "20480\n",
      "21504\n",
      "22528\n",
      "23552\n",
      "24576\n",
      "25600\n",
      "26624\n",
      "27648\n",
      "28672\n",
      "29696\n"
     ]
    }
   ],
   "source": [
    "i = 0\n",
    "for i in range(num_artists-1):\n",
    "    i+=1\n",
    "    if(i%1024==0):\n",
    "        print(i)\n",
    "    x= vector_get_intersections(movies_list[i+1:],movies_list[i])\n",
    "    #print(len(x[0]))\n",
    "    i_len = len(movies_list[i])\n",
    " #   print(len(range(i+1,num_artists)))\n",
    "    neigh = [(j,x[0][j-i-1],x[1][j-i-1]) for j in range(i+1,num_artists) if x[0][j-i-1]>0 and j!=i]\n",
    "    with open('edge_list.txt','a+')as  ef:\n",
    "        for n in neigh:\n",
    "            ef.write(\"%d\\t%d\\t%f\\n\"%(i,n[0],n[1]*1.0/i_len))\n",
    "            ef.write(\"%d\\t%d\\t%f\\n\"%(n[0],i,n[1]*1.0/n[2]))\n",
    "        "
   ]
  },
  {
   "cell_type": "code",
   "execution_count": null,
   "metadata": {},
   "outputs": [],
   "source": [
    "pickle.dump(weights,open('weights.pl','wb'))"
   ]
  }
 ],
 "metadata": {
  "kernelspec": {
   "display_name": "Python 3",
   "language": "python",
   "name": "python3"
  },
  "language_info": {
   "codemirror_mode": {
    "name": "ipython",
    "version": 3
   },
   "file_extension": ".py",
   "mimetype": "text/x-python",
   "name": "python",
   "nbconvert_exporter": "python",
   "pygments_lexer": "ipython3",
   "version": "3.6.4"
  }
 },
 "nbformat": 4,
 "nbformat_minor": 2
}
